{
  "nbformat": 4,
  "nbformat_minor": 0,
  "metadata": {
    "colab": {
      "provenance": [],
      "authorship_tag": "ABX9TyOukUyCeqdOObuhluX2Cx1v",
      "include_colab_link": true
    },
    "kernelspec": {
      "name": "python3",
      "display_name": "Python 3"
    },
    "language_info": {
      "name": "python"
    }
  },
  "cells": [
    {
      "cell_type": "markdown",
      "metadata": {
        "id": "view-in-github",
        "colab_type": "text"
      },
      "source": [
        "<a href=\"https://colab.research.google.com/github/Dextin1268/ColabWorkspace/blob/main/%E9%AB%98%E4%B8%AD%E7%94%9F%E7%A8%8B%E5%BC%8F%E8%A7%A3%E9%A1%8C%E7%B3%BB%E7%B5%B1/%E9%AB%98%E4%B8%AD%E7%94%9F%E7%A8%8B%E5%BC%8F%E8%A7%A3%E9%A1%8C%E7%B3%BB%E7%B5%B1_%E5%9F%BA%E7%A4%8E01.ipynb\" target=\"_parent\"><img src=\"https://colab.research.google.com/assets/colab-badge.svg\" alt=\"Open In Colab\"/></a>"
      ]
    },
    {
      "cell_type": "markdown",
      "source": [
        "# [a010. 因數分解](https://zerojudge.tw/ShowProblem?problemid=a010)"
      ],
      "metadata": {
        "id": "LjncC0EVN-eq"
      }
    },
    {
      "cell_type": "markdown",
      "source": [
        "各位在國小時都學過因數分解，都瞭解怎麼樣用紙筆計算出結果，現在由你來敎電腦做因數分解。\n",
        "\n",
        "因數分解就是把一個數字，切分為數個質數的乘積，如 12=2^2 * 3\n",
        "\n",
        "其中, 次方的符號以 ^ 來表示\n",
        "\n",
        "***輸入***\n",
        "\n",
        "輸入共一行。每行包含一個整數，符合 大於1 且 小於等於 100000000\n",
        "\n",
        "***輸出***\n",
        "\n",
        "針對每一行輸入整數輸出一個因數分解字串"
      ],
      "metadata": {
        "id": "qwZKg3HCO5Ri"
      }
    },
    {
      "cell_type": "code",
      "source": [
        "import math\n",
        "\n",
        "def FindFirstPrime(n):\n",
        "    if n % 2 == 0:\n",
        "        return 2\n",
        "    if n % 3 == 0:\n",
        "        return 3\n",
        "    for k in range(5, int(math.sqrt(n)) +1, 6):\n",
        "        if n % k == 0:\n",
        "            return k\n",
        "        if n % (k + 2) == 0:\n",
        "            return k + 2\n",
        "    return n\n",
        "\n",
        "n = int(input())\n",
        "mPrimes = dict()\n",
        "while True:\n",
        "    p = FindFirstPrime(n)\n",
        "    if p in mPrimes:\n",
        "        mPrimes[p] += 1\n",
        "    else:\n",
        "        mPrimes[p] = 1\n",
        "    if p == n:\n",
        "        break\n",
        "    n //= p\n",
        "\n",
        "output = []\n",
        "for k, v in mPrimes.items():\n",
        "    if v == 1:\n",
        "        output.append(f\"{k}\")\n",
        "    else:\n",
        "        output.append(f\"{k}^{v}\")\n",
        "print(\" * \".join(output))"
      ],
      "metadata": {
        "colab": {
          "base_uri": "https://localhost:8080/"
        },
        "id": "8kScMIQZOqv2",
        "outputId": "803a6142-866e-4bd1-aa6c-4e189fbc45ee"
      },
      "execution_count": 2,
      "outputs": [
        {
          "output_type": "stream",
          "name": "stdout",
          "text": [
            "60\n",
            "2^2 * 3 * 5\n"
          ]
        }
      ]
    },
    {
      "cell_type": "markdown",
      "source": [
        "# [a013. 羅馬數字](https://zerojudge.tw/ShowProblem?problemid=a013)"
      ],
      "metadata": {
        "id": "cS-Y9QAOPmn_"
      }
    },
    {
      "cell_type": "markdown",
      "source": [
        "羅馬數字還是經常用於書本章節及頁碼的編號。在這一題工作是讀入兩個正整數，然後輸出兩個數字差的絕對值。所有的數字都必須以羅馬數字來表示。而連續四個相同符號出現時，必須用減法規則來化簡之。\n",
        "\n",
        "羅馬數字\t數目 \\\\\n",
        "I\t1 \\\\\n",
        "V\t5 \\\\\n",
        "X\t10 \\\\\n",
        "L\t50 \\\\\n",
        "C\t100 \\\\\n",
        "D\t500 \\\\\n",
        "M\t1,000 \\\\\n",
        "\n",
        "***輸入***\n",
        "\n",
        "每個輸入檔中會有一個或以上的測試資料。每一行由兩個數字組成一筆測試資料，且所有數字將會小於4,000。檔案最後會以符號 # 表示結束。\n",
        "\n",
        "***輸出***\n",
        "\n",
        "每筆測試資料的答案必須輸出到檔案中，並且換行。如果答案為零，則須輸出字串 ZERO。"
      ],
      "metadata": {
        "id": "_geHAVuEPmoB"
      }
    },
    {
      "cell_type": "code",
      "source": [
        "Symbol2Num = {'I': 1, 'V': 5, 'X': 10, 'L': 50, 'C': 100, 'D': 500, 'M': 1000}\n",
        "Num2Symbol = {1000: 'M', 900: 'CM', 500: 'D', 400: 'CD', 100: 'C', 90: 'XC',\n",
        "        50: 'L', 40: 'XL', 10: 'X', 9: 'IX' ,5: 'V', 4: 'IV', 1: 'I'}\n",
        "\n",
        "def ConvertSymbol2Num(s):\n",
        "    n = 0\n",
        "    bn = 0\n",
        "    for c in reversed(s):\n",
        "        cn = Symbol2Num[c]\n",
        "        if cn >= bn:\n",
        "            n += cn\n",
        "        else:\n",
        "            n -= cn\n",
        "        bn = cn\n",
        "    return n\n",
        "\n",
        "def ConvertNum2Symbol(n):\n",
        "    if n == 0:\n",
        "        return \"ZERO\"\n",
        "    s = \"\"\n",
        "    for k, c in Num2Symbol.items():\n",
        "        while n >= k:\n",
        "            s += c\n",
        "            n -= k\n",
        "        if n == 0:\n",
        "            break\n",
        "    return s\n",
        "\n",
        "while True:\n",
        "    inputLine = input()\n",
        "    if inputLine == \"#\":\n",
        "        break\n",
        "    a = inputLine.split()\n",
        "    n = ConvertSymbol2Num(a[0]) - ConvertSymbol2Num(a[1])\n",
        "    print(ConvertNum2Symbol(abs(n)))"
      ],
      "metadata": {
        "colab": {
          "base_uri": "https://localhost:8080/"
        },
        "outputId": "d4591f06-7d9f-4e11-929a-4073b7f73496",
        "id": "tg23yVVCPmoD"
      },
      "execution_count": 3,
      "outputs": [
        {
          "name": "stdout",
          "output_type": "stream",
          "text": [
            "MM II\n",
            "MCMXCVIII\n",
            "#\n"
          ]
        }
      ]
    },
    {
      "cell_type": "markdown",
      "source": [
        "# [a017. 五則運算](https://zerojudge.tw/ShowProblem?problemid=a017)"
      ],
      "metadata": {
        "id": "sottVoeAWnBS"
      }
    },
    {
      "cell_type": "markdown",
      "source": [
        "計算五則運算式的結果，包含加、減、乘、除、餘\n",
        "\n",
        "***輸入***\n",
        "\n",
        "輸入資料若干行直到 EOF 為止。每一行包含輸入一個字串，其中包含運算元及運算子，為了方便讀取，所有的運算子及運算元均以空格區隔。\n",
        "\n",
        "運算元為 0 ~ $2^{31}$ -1 的整數\n",
        "\n",
        "運算子則包含 + - * / % 及 ( )\n",
        "\n",
        "運算時請注意先乘除後加減及() 優先運算的計算規則\n",
        "\n",
        "***輸出***\n",
        "\n",
        "對每一行輸入，輸出運算結果。\n",
        "\n",
        "為了避免小數點誤差，所有的運算過程都不會產生小數點，可以放心使用整數進行運算"
      ],
      "metadata": {
        "id": "G2ZLRgMZWnBU"
      }
    },
    {
      "cell_type": "code",
      "source": [],
      "metadata": {
        "id": "2WnFAP3TWnBW"
      },
      "execution_count": null,
      "outputs": []
    }
  ]
}